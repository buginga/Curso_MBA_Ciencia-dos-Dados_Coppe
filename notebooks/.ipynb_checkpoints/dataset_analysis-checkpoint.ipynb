{
 "cells": [
  {
   "cell_type": "markdown",
   "id": "1f864dd4",
   "metadata": {},
   "source": [
    "# Import the necessary packages"
   ]
  },
  {
   "cell_type": "code",
   "execution_count": 54,
   "id": "2b945e6c",
   "metadata": {
    "scrolled": true
   },
   "outputs": [],
   "source": [
    "import pandas as pd\n",
    "import numpy as np\n",
    "import sklearn as sk\n",
    "import sqlite3 as sql\n",
    "import matplotlib.pyplot as plt\n",
    "\n",
    "from sklearn.preprocessing import OrdinalEncoder\n",
    "from pandas.plotting import scatter_matrix\n",
    "from scipy.stats import pearsonr"
   ]
  },
  {
   "cell_type": "markdown",
   "id": "522960cf",
   "metadata": {},
   "source": [
    "# Creating SQLite Connections and Cursors"
   ]
  },
  {
   "cell_type": "code",
   "execution_count": 2,
   "id": "9a096f23",
   "metadata": {},
   "outputs": [],
   "source": [
    "connection = sql.connect('../datasets and saved objs/database/olist.db');\n",
    "cursor = connection.cursor();"
   ]
  },
  {
   "cell_type": "markdown",
   "id": "169408aa",
   "metadata": {},
   "source": [
    "# Load the CSV files with Pandas and Display the Information"
   ]
  },
  {
   "cell_type": "code",
   "execution_count": 3,
   "id": "f3908235",
   "metadata": {
    "scrolled": true
   },
   "outputs": [
    {
     "name": "stdout",
     "output_type": "stream",
     "text": [
      "\n",
      "\n",
      "\tCustomers CSV Information: \n",
      "\n",
      "\n",
      "<class 'pandas.core.frame.DataFrame'>\n",
      "RangeIndex: 99441 entries, 0 to 99440\n",
      "Data columns (total 5 columns):\n",
      " #   Column                    Non-Null Count  Dtype \n",
      "---  ------                    --------------  ----- \n",
      " 0   customer_id               99441 non-null  object\n",
      " 1   customer_unique_id        99441 non-null  object\n",
      " 2   customer_zip_code_prefix  99441 non-null  int64 \n",
      " 3   customer_city             99441 non-null  object\n",
      " 4   customer_state            99441 non-null  object\n",
      "dtypes: int64(1), object(4)\n",
      "memory usage: 3.8+ MB\n",
      "None\n",
      "\n",
      "\n",
      "\tGeolocation CSV Information: \n",
      "\n",
      "\n",
      "<class 'pandas.core.frame.DataFrame'>\n",
      "RangeIndex: 1000163 entries, 0 to 1000162\n",
      "Data columns (total 5 columns):\n",
      " #   Column                       Non-Null Count    Dtype  \n",
      "---  ------                       --------------    -----  \n",
      " 0   geolocation_zip_code_prefix  1000163 non-null  int64  \n",
      " 1   geolocation_lat              1000163 non-null  float64\n",
      " 2   geolocation_lng              1000163 non-null  float64\n",
      " 3   geolocation_city             1000163 non-null  object \n",
      " 4   geolocation_state            1000163 non-null  object \n",
      "dtypes: float64(2), int64(1), object(2)\n",
      "memory usage: 38.2+ MB\n",
      "None\n",
      "\n",
      "\n",
      "\tOrder Itens CSV Information: \n",
      "\n",
      "\n",
      "<class 'pandas.core.frame.DataFrame'>\n",
      "RangeIndex: 112650 entries, 0 to 112649\n",
      "Data columns (total 7 columns):\n",
      " #   Column               Non-Null Count   Dtype  \n",
      "---  ------               --------------   -----  \n",
      " 0   order_id             112650 non-null  object \n",
      " 1   order_item_id        112650 non-null  int64  \n",
      " 2   product_id           112650 non-null  object \n",
      " 3   seller_id            112650 non-null  object \n",
      " 4   shipping_limit_date  112650 non-null  object \n",
      " 5   price                112650 non-null  float64\n",
      " 6   freight_value        112650 non-null  float64\n",
      "dtypes: float64(2), int64(1), object(4)\n",
      "memory usage: 6.0+ MB\n",
      "None\n",
      "\n",
      "\n",
      "\tOrders Payments CSV Information: \n",
      "\n",
      "\n",
      "<class 'pandas.core.frame.DataFrame'>\n",
      "RangeIndex: 103886 entries, 0 to 103885\n",
      "Data columns (total 5 columns):\n",
      " #   Column                Non-Null Count   Dtype  \n",
      "---  ------                --------------   -----  \n",
      " 0   order_id              103886 non-null  object \n",
      " 1   payment_sequential    103886 non-null  int64  \n",
      " 2   payment_type          103886 non-null  object \n",
      " 3   payment_installments  103886 non-null  int64  \n",
      " 4   payment_value         103886 non-null  float64\n",
      "dtypes: float64(1), int64(2), object(2)\n",
      "memory usage: 4.0+ MB\n",
      "None\n",
      "\n",
      "\n",
      "\tOrder Reviews CSV Information: \n",
      "\n",
      "\n",
      "<class 'pandas.core.frame.DataFrame'>\n",
      "RangeIndex: 99224 entries, 0 to 99223\n",
      "Data columns (total 7 columns):\n",
      " #   Column                   Non-Null Count  Dtype \n",
      "---  ------                   --------------  ----- \n",
      " 0   review_id                99224 non-null  object\n",
      " 1   order_id                 99224 non-null  object\n",
      " 2   review_score             99224 non-null  int64 \n",
      " 3   review_comment_title     11568 non-null  object\n",
      " 4   review_comment_message   40977 non-null  object\n",
      " 5   review_creation_date     99224 non-null  object\n",
      " 6   review_answer_timestamp  99224 non-null  object\n",
      "dtypes: int64(1), object(6)\n",
      "memory usage: 5.3+ MB\n",
      "None\n",
      "\n",
      "\n",
      "\tOrders CSV Information: \n",
      "\n",
      "\n",
      "<class 'pandas.core.frame.DataFrame'>\n",
      "RangeIndex: 99441 entries, 0 to 99440\n",
      "Data columns (total 8 columns):\n",
      " #   Column                         Non-Null Count  Dtype \n",
      "---  ------                         --------------  ----- \n",
      " 0   order_id                       99441 non-null  object\n",
      " 1   customer_id                    99441 non-null  object\n",
      " 2   order_status                   99441 non-null  object\n",
      " 3   order_purchase_timestamp       99441 non-null  object\n",
      " 4   order_approved_at              99281 non-null  object\n",
      " 5   order_delivered_carrier_date   97658 non-null  object\n",
      " 6   order_delivered_customer_date  96476 non-null  object\n",
      " 7   order_estimated_delivery_date  99441 non-null  object\n",
      "dtypes: object(8)\n",
      "memory usage: 6.1+ MB\n",
      "None\n",
      "\n",
      "\n",
      "\tProducts CSV Information: \n",
      "\n",
      "\n",
      "<class 'pandas.core.frame.DataFrame'>\n",
      "RangeIndex: 32951 entries, 0 to 32950\n",
      "Data columns (total 9 columns):\n",
      " #   Column                      Non-Null Count  Dtype  \n",
      "---  ------                      --------------  -----  \n",
      " 0   product_id                  32951 non-null  object \n",
      " 1   product_category_name       32341 non-null  object \n",
      " 2   product_name_lenght         32341 non-null  float64\n",
      " 3   product_description_lenght  32341 non-null  float64\n",
      " 4   product_photos_qty          32341 non-null  float64\n",
      " 5   product_weight_g            32949 non-null  float64\n",
      " 6   product_length_cm           32949 non-null  float64\n",
      " 7   product_height_cm           32949 non-null  float64\n",
      " 8   product_width_cm            32949 non-null  float64\n",
      "dtypes: float64(7), object(2)\n",
      "memory usage: 2.3+ MB\n",
      "None\n",
      "\n",
      "\n",
      "\tSelllers CSV Information: \n",
      "\n",
      "\n",
      "<class 'pandas.core.frame.DataFrame'>\n",
      "RangeIndex: 3095 entries, 0 to 3094\n",
      "Data columns (total 4 columns):\n",
      " #   Column                  Non-Null Count  Dtype \n",
      "---  ------                  --------------  ----- \n",
      " 0   seller_id               3095 non-null   object\n",
      " 1   seller_zip_code_prefix  3095 non-null   int64 \n",
      " 2   seller_city             3095 non-null   object\n",
      " 3   seller_state            3095 non-null   object\n",
      "dtypes: int64(1), object(3)\n",
      "memory usage: 96.8+ KB\n",
      "None\n",
      "\n",
      "\n",
      "\tName Translation CSV Information: \n",
      "\n",
      "\n",
      "<class 'pandas.core.frame.DataFrame'>\n",
      "RangeIndex: 71 entries, 0 to 70\n",
      "Data columns (total 2 columns):\n",
      " #   Column                         Non-Null Count  Dtype \n",
      "---  ------                         --------------  ----- \n",
      " 0   product_category_name          71 non-null     object\n",
      " 1   product_category_name_english  71 non-null     object\n",
      "dtypes: object(2)\n",
      "memory usage: 1.2+ KB\n",
      "None\n"
     ]
    }
   ],
   "source": [
    "dfCustomers = pd.read_csv('../datasets and saved objs/dataset/olist_customers_dataset.csv');\n",
    "dfGeolocation = pd.read_csv('../datasets and saved objs/dataset/olist_geolocation_dataset.csv');\n",
    "dfOrderItens = pd.read_csv('../datasets and saved objs/dataset/olist_order_items_dataset.csv');\n",
    "dfOrderPayments = pd.read_csv('../datasets and saved objs/dataset/olist_order_payments_dataset.csv');\n",
    "dfOrderReviews = pd.read_csv('../datasets and saved objs/dataset/olist_order_reviews_dataset.csv');\n",
    "dfOrders = pd.read_csv('../datasets and saved objs/dataset/olist_orders_dataset.csv');\n",
    "dfProducts = pd.read_csv('../datasets and saved objs/dataset/olist_products_dataset.csv');\n",
    "dfSellers = pd.read_csv('../datasets and saved objs/dataset/olist_sellers_dataset.csv');\n",
    "dfNameTranslation = pd.read_csv('../datasets and saved objs/dataset/product_category_name_translation.csv');\n",
    "\n",
    "\n",
    "# Remove NaN elements from the dataframes\n",
    "#dfCustomers.dropna(inplace=True);\n",
    "#dfGeolocation.dropna(inplace=True);\n",
    "#dfOrderItens.dropna(inplace=True);\n",
    "#dfOrderPayments.dropna(inplace=True);\n",
    "#dfOrderReviews.dropna(inplace=True);\n",
    "#dfOrders.dropna(inplace=True);\n",
    "#dfProducts.dropna(inplace=True);\n",
    "#dfSellers.dropna(inplace=True);\n",
    "#dfNameTranslation.dropna(inplace=True);\n",
    "\n",
    "\n",
    "\n",
    "print(\"\\n\\n\\tCustomers CSV Information: \\n\\n\");\n",
    "print(dfCustomers.info());\n",
    "print(\"\\n\\n\\tGeolocation CSV Information: \\n\\n\");\n",
    "print(dfGeolocation.info());\n",
    "print(\"\\n\\n\\tOrder Itens CSV Information: \\n\\n\");\n",
    "print(dfOrderItens.info());\n",
    "print(\"\\n\\n\\tOrders Payments CSV Information: \\n\\n\");\n",
    "print(dfOrderPayments.info());\n",
    "print(\"\\n\\n\\tOrder Reviews CSV Information: \\n\\n\");\n",
    "print(dfOrderReviews.info());\n",
    "print(\"\\n\\n\\tOrders CSV Information: \\n\\n\");\n",
    "print(dfOrders.info());\n",
    "print(\"\\n\\n\\tProducts CSV Information: \\n\\n\");\n",
    "print(dfProducts.info());\n",
    "print(\"\\n\\n\\tSelllers CSV Information: \\n\\n\");\n",
    "print(dfSellers.info());\n",
    "print(\"\\n\\n\\tName Translation CSV Information: \\n\\n\");\n",
    "print(dfNameTranslation.info());"
   ]
  },
  {
   "cell_type": "code",
   "execution_count": 114,
   "id": "4720a679",
   "metadata": {},
   "outputs": [
    {
     "name": "stdout",
     "output_type": "stream",
     "text": [
      "Index(['geolocation_zip_code_prefix', 'geolocation_lat', 'geolocation_lng',\n",
      "       'geolocation_city', 'geolocation_state'],\n",
      "      dtype='object')\n"
     ]
    }
   ],
   "source": [
    "#print(dfCustomers.head(1))\n",
    "#print(dfGeolocation.head(1))\n",
    "#print(dfOrderItens.head(1))\n",
    "#print(dfOrderPayments.head(1))\n",
    "#print(dfOrderReviews.head(1))\n",
    "#print(dfOrders.head(1))\n",
    "#print(dfProducts.head(1))\n",
    "#print(dfSellers.head(1))\n",
    "#print(dfNameTranslation.head(1))\n",
    "print(dfGeolocation.keys())"
   ]
  },
  {
   "cell_type": "code",
   "execution_count": 5,
   "id": "936e688d",
   "metadata": {},
   "outputs": [],
   "source": [
    "# get column names to create the database tables\n",
    "customersColumns = list(dfCustomers.columns);\n",
    "geolocationColumns = list(dfGeolocation.columns);\n",
    "orderItensColumns = list(dfOrderItens.columns);\n",
    "orderPaymentsColumns = list(dfOrderPayments.columns);\n",
    "orderReviewsColumns = list(dfOrderReviews.columns);\n",
    "ordersColumns = list(dfOrders.columns);\n",
    "productsColumns = list(dfProducts.columns);\n",
    "sellersColumns = list(dfSellers.columns);\n",
    "nameTranslationColumns = list(dfNameTranslation.columns);"
   ]
  },
  {
   "cell_type": "code",
   "execution_count": 6,
   "id": "80d12f93",
   "metadata": {},
   "outputs": [],
   "source": [
    "# creating tables\n",
    "cursor.execute(\"create table customers (\" +\",\".join(customersColumns) + \")\");\n",
    "cursor.execute(\"create table geolocation (\" +\",\".join(geolocationColumns) + \")\");\n",
    "cursor.execute(\"create table orderItens (\" +\",\".join(orderItensColumns) + \")\");\n",
    "cursor.execute(\"create table orderPayments (\" +\",\".join(orderPaymentsColumns) + \")\");\n",
    "cursor.execute(\"create table orderReviews (\" +\",\".join(orderReviewsColumns) + \")\");\n",
    "cursor.execute(\"create table orders (\" +\",\".join(ordersColumns) + \")\");\n",
    "cursor.execute(\"create table products (\" +\",\".join(productsColumns) + \")\");\n",
    "cursor.execute(\"create table sellers (\" +\",\".join(sellersColumns) + \")\");\n",
    "cursor.execute(\"create table nameTranslation (\" +\",\".join(nameTranslationColumns) + \")\");\n",
    "\n",
    "# Inserting the data into the tables\n",
    "for item in range(len(dfCustomers)):\n",
    "    numColumns = \"\";\n",
    "    for index in range(len(customersColumns)-1):\n",
    "        numColumns += '?,';\n",
    "    numColumns += '?';\n",
    "    cursor.execute(\"insert into customers values (\" + numColumns + \")\", dfCustomers.iloc[item]);\n",
    "    \n",
    "    \n",
    "for item in range(len(dfGeolocation)):\n",
    "    numColumns = \"\";\n",
    "    for index in range(len(geolocationColumns)-1):\n",
    "        numColumns += '?,';\n",
    "    numColumns += '?';\n",
    "    cursor.execute(\"insert into geolocation values (\" + numColumns + \")\", dfGeolocation.iloc[item]);\n",
    "\n",
    "    \n",
    "for item in range(len(dfOrderItens)):\n",
    "    numColumns = \"\";\n",
    "    for index in range(len(orderItensColumns)-1):\n",
    "        numColumns += '?,';\n",
    "    numColumns += '?';\n",
    "    cursor.execute(\"insert into orderItens values (\" + numColumns + \")\", dfOrderItens.iloc[item]);\n",
    "    \n",
    "for item in range(len(dfOrderPayments)):\n",
    "    numColumns = \"\";\n",
    "    for index in range(len(orderPaymentsColumns)-1):\n",
    "        numColumns += '?,';\n",
    "    numColumns += '?';\n",
    "    cursor.execute(\"insert into orderPayments values (\" + numColumns + \")\", dfOrderPayments.iloc[item]);\n",
    "\n",
    "    \n",
    "for item in range(len(dfOrderReviews)):\n",
    "    numColumns = \"\";\n",
    "    for index in range(len(orderReviewsColumns)-1):\n",
    "        numColumns += '?,';\n",
    "    numColumns += '?';\n",
    "    cursor.execute(\"insert into orderReviews values (\" + numColumns + \")\", dfOrderReviews.iloc[item]);\n",
    "    \n",
    "for item in range(len(dfOrders)):\n",
    "    numColumns = \"\";\n",
    "    for index in range(len(ordersColumns)-1):\n",
    "        numColumns += '?,';\n",
    "    numColumns += '?';\n",
    "    cursor.execute(\"insert into orders values (\" + numColumns + \")\", dfOrders.iloc[item]);\n",
    "    \n",
    "for item in range(len(dfProducts)):\n",
    "    numColumns = \"\";\n",
    "    for index in range(len(productsColumns)-1):\n",
    "        numColumns += '?,';\n",
    "    numColumns += '?';\n",
    "    cursor.execute(\"insert into products values (\" + numColumns + \")\", dfProducts.iloc[item]);\n",
    "\n",
    "for item in range(len(dfSellers)):\n",
    "    numColumns = \"\";\n",
    "    for index in range(len(sellersColumns)-1):\n",
    "        numColumns += '?,';\n",
    "    numColumns += '?';\n",
    "    cursor.execute(\"insert into sellers values (\" + numColumns + \")\", dfSellers.iloc[item]);\n",
    "\n",
    "for item in range(len(dfNameTranslation)):\n",
    "    numColumns = \"\";\n",
    "    for index in range(len(nameTranslationColumns)-1):\n",
    "        numColumns += '?,';\n",
    "    numColumns += '?';\n",
    "    cursor.execute(\"insert into nameTranslation values (\" + numColumns + \")\", dfNameTranslation.iloc[item]);\n",
    "\n",
    "connection.commit()"
   ]
  },
  {
   "cell_type": "code",
   "execution_count": 120,
   "id": "7622bb79",
   "metadata": {},
   "outputs": [
    {
     "data": {
      "image/png": "[encoded data removed]",
      "text/plain": [
       "<Figure size 1440x1080 with 4 Axes>"
      ]
     },
     "metadata": {
      "needs_background": "light"
     },
     "output_type": "display_data"
    }
   ],
   "source": [
    "#dfCustomers.hist(bins=50,figsize=(20,15))\n",
    "#dfGeolocation.hist(bins=50,figsize=(20,15));\n",
    "#dfOrderItens.hist(bins=50,figsize=(20,15));\n",
    "#dfOrderPayments.hist(bins=50,figsize=(20,15));\n",
    "#dfOrderReviews.hist(bins=50,figsize=(20,15));\n",
    "#dfOrders.hist(bins=50,figsize=(20,15));\n",
    "#dfProducts.hist(bins=50,figsize=(20,15));\n",
    "#dfSellers.hist(bins=50,figsize=(20,15));\n",
    "#dfNameTranslation.hist(bins=50,figsize=(20,15));\n",
    "#plt.show()\n",
    "\n",
    "#dfGeolocation.plot(kind=\"scatter\", y=\"geolocation_lat\", x=\"geolocation_lng\")"
   ]
  },
  {
   "cell_type": "markdown",
   "id": "0190c917",
   "metadata": {},
   "source": [
    "# How are distributed users orders across Brazil?"
   ]
  },
  {
   "cell_type": "code",
   "execution_count": 7,
   "id": "5b1c1ec3",
   "metadata": {},
   "outputs": [],
   "source": [
    "# This could be modelated as an unsupervised clustering problem \n",
    "# where we want to predict the probability of a specific order given a brazil region \n",
    "\n",
    "# Fisrt we should visualize the dataset given this two labels\n",
    "\n",
    "\n",
    "# The first step to visualize is transform the word features in numerical features"
   ]
  },
  {
   "cell_type": "markdown",
   "id": "d7a3fc28",
   "metadata": {},
   "source": [
    "# How payments are distributed given the order value?"
   ]
  },
  {
   "cell_type": "code",
   "execution_count": 113,
   "id": "40333ab0",
   "metadata": {},
   "outputs": [
    {
     "name": "stdout",
     "output_type": "stream",
     "text": [
      "(array([-0.07222409507258104], dtype=object), 3.59602803307649e-120)\n"
     ]
    },
    {
     "data": {
      "image/png": "[encoded data removed]",
      "text/plain": [
       "<Figure size 432x288 with 1 Axes>"
      ]
     },
     "metadata": {
      "needs_background": "light"
     },
     "output_type": "display_data"
    }
   ],
   "source": [
    "# This is a supervised learning problem, where we want to predict \n",
    "# the payment method given the total value of the order\n",
    "\n",
    "columnPaymentType = dfOrderPayments['payment_type']\n",
    "columnPaymentValues = dfOrderPayments['payment_value']\n",
    "\n",
    "paymentTypeEncoder = preprocessing.OrdinalEncoder()\n",
    "\n",
    "enconding_values = [[item] for item in columnPaymentType.unique()]\n",
    "paymentTypeEncoder = paymentTypeEncoder.fit(enconding_values)\n",
    "\n",
    "featurePayment = [[item] for item in columnPaymentType]\n",
    "columnPaymentTypeEncoded = paymentTypeEncoder.fit_transform(featurePayment)\n",
    "\n",
    "Y_ticks = [item[0] for item in paymentTypeEncoder.inverse_transform([[0],[1],[2],[3],[4]])]\n",
    "\n",
    "plt.ylabel(\"Payment Type\")\n",
    "plt.xlabel(\"Total Payment Value\")\n",
    "plt.yticks(np.arange(5), Y_ticks)\n",
    "#plt.xscale('log')\n",
    "plt.plot(columnPaymentValues,columnPaymentTypeEncoded,'ro')\n",
    "print(pearsonr(columnPaymentValues, columnPaymentTypeEncoded))"
   ]
  },
  {
   "cell_type": "markdown",
   "id": "605bd7c0",
   "metadata": {},
   "source": [
    "# Discussion \n",
    "\n",
    "This features are uncorrelated. The figure, however, shows three patterns:\n",
    "\n",
    "1) payments between 6000 and 8000 are usually done with \\\"boleto\\\" or \\\"credit_card\\\" payment types\n",
    "\n",
    "2) very high payments are usully done with \\\"credit_card\\\" payment type\n",
    "\n",
    "3) \"voucher\" is usually used for payments below 2000"
   ]
  },
  {
   "cell_type": "markdown",
   "id": "7bb20149",
   "metadata": {},
   "source": [
    "# What is the city distribution?"
   ]
  },
  {
   "cell_type": "code",
   "execution_count": null,
   "id": "688d138f",
   "metadata": {},
   "outputs": [],
   "source": [
    "columnState = dfGeolocation['geolocation_state']\n",
    "columnCity =  dfGeolocation['geolocation_city']\n",
    "\n",
    "cityEncoder = preprocessing.OrdinalEncoder()\n",
    "stateEncoder = preprocessing.OrdinalEncoder()\n",
    "\n",
    "enconding_city_values = [[item] for item in columnCity.unique()]\n",
    "enconding_state_values = [[item] for item in columnState.unique()]\n",
    "\n",
    "cityValuesEncoder = cityEncoder.fit(enconding_city_values)\n",
    "stateValuesEncoder = stateEncoder.fit(enconding_state_values)\n",
    "\n",
    "featureState = [[item] for item in columnState]\n",
    "featureCity = [[item] for item in columnCity]\n",
    "\n",
    "columnPaymentTypeEncoded = paymentTypeEncoder.fit_transform(featureState)\n",
    "\n",
    "#Y_ticks = [item[0] for item in cityValuesEncoder.inverse_transform([[ele] for ele in np.arange(len(columnCity.unique())))]\n",
    "#Y_ticks = [item[0] for item in stateValuesEncoder.inverse_transform([[ele] for ele in np.arange(len(columnState.unique())))]\n",
    "\n",
    "plt.hist(featureCity,bins=20)\n",
    "plt.plot()\n",
    "\n",
    "#plt.ylabel(\"Payment Type\")\n",
    "#plt.xlabel(\"Total Payment Value\")\n",
    "#plt.yticks(np.arange(5), Y_ticks)\n",
    "#plt.xscale('log')\n",
    "#plt.plot(columnPaymentValues,columnPaymentTypeEncoded,'ro')\n",
    "#print(pearsonr(columnPaymentValues, columnPaymentTypeEncoded))"
   ]
  },
  {
   "cell_type": "code",
   "execution_count": 93,
   "id": "122e996f",
   "metadata": {},
   "outputs": [
    {
     "name": "stdout",
     "output_type": "stream",
     "text": [
      "(0.0, 94427)\n"
     ]
    }
   ],
   "source": [
    "Nan_payments = [(columnPaymentValues[index],index) for index in range(len(columnPaymentValues)) if (columnPaymentType[index] == 'not_defined')]\n",
    "\n",
    "#cursor.execute(\"select * from orderPayments where payment_type=:c\", {'c':\"debit_card\"})\n",
    "#debit_payments = cursor.fetchall()\n",
    "print(max(Nan_payments))"
   ]
  },
  {
   "cell_type": "markdown",
   "id": "055df13d",
   "metadata": {},
   "source": [
    "# How vendors are distribueted among the country?"
   ]
  },
  {
   "cell_type": "code",
   "execution_count": null,
   "id": "d5490311",
   "metadata": {},
   "outputs": [],
   "source": []
  },
  {
   "cell_type": "markdown",
   "id": "435e391b",
   "metadata": {},
   "source": [
    "# Finalize the execution"
   ]
  },
  {
   "cell_type": "code",
   "execution_count": 9,
   "id": "65eff5e0",
   "metadata": {},
   "outputs": [],
   "source": [
    "#connection.close();"
   ]
  },
  {
   "cell_type": "code",
   "execution_count": null,
   "id": "1635daa3",
   "metadata": {},
   "outputs": [],
   "source": []
  }
 ],
 "metadata": {
  "kernelspec": {
   "display_name": "Python 3 (ipykernel)",
   "language": "python",
   "name": "python3"
  },
  "language_info": {
   "codemirror_mode": {
    "name": "ipython",
    "version": 3
   },
   "file_extension": ".py",
   "mimetype": "text/x-python",
   "name": "python",
   "nbconvert_exporter": "python",
   "pygments_lexer": "ipython3",
   "version": "3.10.2"
  }
 },
 "nbformat": 4,
 "nbformat_minor": 5
}
